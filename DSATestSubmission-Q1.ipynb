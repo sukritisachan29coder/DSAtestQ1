{
 "cells": [
  {
   "cell_type": "code",
   "execution_count": 8,
   "id": "f1fe02cd",
   "metadata": {},
   "outputs": [
    {
     "name": "stdout",
     "output_type": "stream",
     "text": [
      "8\n",
      "2\n"
     ]
    }
   ],
   "source": [
    "s=int(input())\n",
    "\n",
    "def binary(s):\n",
    "    i=1\n",
    "    j=s//2\n",
    "    ans=0\n",
    "    while i <= j:\n",
    "        mid = (i+j) // 2\n",
    "        t=(mid)*mid\n",
    "        if t<=s:\n",
    "            ans=mid\n",
    "            i = mid + 1\n",
    "        else:\n",
    "            j = mid - 1\n",
    "    print(ans)\n",
    "    \n",
    "binary(s)\n"
   ]
  },
  {
   "cell_type": "code",
   "execution_count": null,
   "id": "2f42ed69",
   "metadata": {},
   "outputs": [],
   "source": []
  }
 ],
 "metadata": {
  "kernelspec": {
   "display_name": "Python 3 (ipykernel)",
   "language": "python",
   "name": "python3"
  },
  "language_info": {
   "codemirror_mode": {
    "name": "ipython",
    "version": 3
   },
   "file_extension": ".py",
   "mimetype": "text/x-python",
   "name": "python",
   "nbconvert_exporter": "python",
   "pygments_lexer": "ipython3",
   "version": "3.9.13"
  }
 },
 "nbformat": 4,
 "nbformat_minor": 5
}
